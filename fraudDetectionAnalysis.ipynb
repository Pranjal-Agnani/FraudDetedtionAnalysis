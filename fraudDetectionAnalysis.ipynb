{
  "metadata": {
    "kernelspec": {
      "name": "python",
      "display_name": "Python (Pyodide)",
      "language": "python"
    },
    "language_info": {
      "codemirror_mode": {
        "name": "python",
        "version": 3
      },
      "file_extension": ".py",
      "mimetype": "text/x-python",
      "name": "python",
      "nbconvert_exporter": "python",
      "pygments_lexer": "ipython3",
      "version": "3.8"
    }
  },
  "nbformat_minor": 4,
  "nbformat": 4,
  "cells": [
    {
      "cell_type": "code",
      "source": "import pandas as pd\nfrom sklearn.model_selection import train_test_split\n# Replace with your chosen model (e.g., RandomForestClassifier, XGBoost, LogisticRegression)\nfrom sklearn.ensemble import RandomForestClassifier\nfrom sklearn.impute import SimpleImputer  # For missing value imputation\nfrom sklearn.preprocessing import StandardScaler  # For numerical feature scaling\nfrom sklearn.feature_selection import SelectKBest, chi2  # For feature selection\nfrom sklearn.metrics import accuracy_score, precision_score, recall_score, confusion_matrix, classification_report\n\n# Data Loading with Error Handling (replace \"Fraud.csv\" with actual file name)\ntry:\n\n  from notebook.files import upload  # Might not work in all Jupyter Notebook environments\n\n  uploaded = upload()\n  filename = list(uploaded.keys())[0]  # Get the uploaded file name\n  data = pd.read_csv(uploaded[filename][0], encoding=\"utf-8\")\n  print(f\"Successfully loaded data from uploaded file: {filename}\")\n\nexcept (ImportError, ModuleNotFoundError):\n  print(\"File upload not supported. Trying alternative approaches...\")\n\n  try:\n    data = pd.read_csv(\"Fraud.csv\", encoding=\"utf-8\")\n    print(\"Successfully loaded data using relative path.\")\n\n  except FileNotFoundError:\n    print(\"File not found using relative path. Trying absolute path...\")\n\n    try:\n      # Option 3: Specifying absolute path (with caution)\n      data = pd.read_csv(r\"C:\\Users\\lenovo\\Downloads\\Fraud.csv\", encoding=\"utf-8\")\n      print(\"Successfully loaded data using absolute path.\")\n\n    except FileNotFoundError:\n      print(\"File not found using absolute path. Please check the file location.\")\n\n# Handle potential errors during data loading\nif 'data' not in locals():\n  print(\"Data loading failed. Exiting analysis.\")\nelse:\n\n  # Data Exploration and Cleaning (already included in your code)\n\n  # ... (your existing code for data exploration and cleaning)\n\n  # Model Training and Evaluation\n\n  # Train-test split\n  X_train, X_test, y_train, y_test = train_test_split(X, y, test_size=0.2, random_state=42)\n\n  # Feature scaling (if necessary for the chosen model)\n  scaler = StandardScaler()\n  X_train = scaler.fit_transform(X_train)\n  X_test = scaler.transform(X_test)\n\n  # Model Training (replace with your chosen model)\n  model = RandomForestClassifier()  # Replace with your preferred model\n  model.fit(X_train, y_train)\n\n  # Model Evaluation\n  y_pred = model.predict(X_test)\n\n  accuracy = accuracy_score(y_test, y_pred)\n  precision = precision_score(y_test, y_pred)\n  recall = recall_score(y_test, y_pred)\n  cm = confusion_matrix(y_test, y_pred)\n  class_report = classification_report(y_test, y_pred)\n\n  print(\"Accuracy:\", accuracy)\n  print(\"Precision:\", precision)\n  print(\"Recall:\", recall)\n  print(\"Confusion Matrix:\\n\", cm)\n  print(\"Classification Report:\\n\", class_report)\n\nprint(\"Fraud detection analysis completed.\")\n",
      "metadata": {
        "trusted": true
      },
      "outputs": [
        {
          "name": "stdout",
          "text": "File upload not supported. Trying alternative approaches...\nFile not found using relative path. Trying absolute path...\nFile not found using absolute path. Please check the file location.\nData loading failed. Exiting analysis.\nFraud detection analysis completed.\n",
          "output_type": "stream"
        }
      ],
      "execution_count": 4
    },
    {
      "cell_type": "code",
      "source": "",
      "metadata": {
        "trusted": true
      },
      "outputs": [],
      "execution_count": null
    }
  ]
}